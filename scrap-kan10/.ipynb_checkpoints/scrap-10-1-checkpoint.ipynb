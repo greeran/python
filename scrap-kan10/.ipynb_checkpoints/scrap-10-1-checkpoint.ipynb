{
 "cells": [
  {
   "cell_type": "code",
   "execution_count": 53,
   "metadata": {},
   "outputs": [],
   "source": [
    "import requests\n",
    "from bs4 import BeautifulSoup\n",
    "import ssl\n",
    "import re\n",
    "\n",
    "ssl._create_default_https_context = ssl._create_unverified_context\n",
    "r=requests.get(\"https://www.kan.org.il/radio/\")\n",
    "c=r.content\n"
   ]
  },
  {
   "cell_type": "code",
   "execution_count": 54,
   "metadata": {},
   "outputs": [],
   "source": [
    "soup=BeautifulSoup(c,\"html.parser\")\n"
   ]
  },
  {
   "cell_type": "code",
   "execution_count": 55,
   "metadata": {},
   "outputs": [
    {
     "name": "stdout",
     "output_type": "stream",
     "text": [
      "/live/radio.aspx?stationid=3\n",
      "stationid=3\n",
      "/live/radio.aspx?stationid=9\n",
      "stationid=9\n",
      "/live/radio.aspx?stationid=5\n",
      "stationid=5\n",
      "/live/radio.aspx?stationid=4\n",
      "stationid=4\n",
      "/live/radio.aspx?stationid=6\n",
      "stationid=6\n",
      "/live/radio.aspx?stationid=7\n",
      "stationid=7\n",
      "/live/radio.aspx?stationid=10\n",
      "stationid=10\n",
      "http://www.makan.org.il/live/radio.aspx?stationid=2\n",
      "stationid=2\n",
      "http://farsi.kan.org.il/\n",
      "/radio/oriental.aspx\n"
     ]
    }
   ],
   "source": [
    "base_radio_url=\"https://www.kan.org.il/radio/player.aspx?\"\n",
    "station_list=[]\n",
    "\n",
    "radio_menus_dp=soup.find_all(\"div\",{\"class\":\"mega_menu_level2 w-dropdown w-hidden-main\"})\n",
    "for radio_menu in radio_menus_dp:\n",
    "    test_radio=radio_menu.find(\"div\",{\"class\":\"mega_menu_level2_link w-dropdown-toggle\"})\n",
    "    \n",
    "    if test_radio.text.replace(\"\\n\",\"\").replace(\" \",\"\") == 'רדיו':\n",
    "        nav_class=radio_menu.find(\"nav\",{\"class\":\"mega_menu_droplist w-dropdown-list\"})\n",
    "        stations=nav_class.find_all(\"a\",{\"class\":\"mega_menu_droplink w-dropdown-link\"})\n",
    "        for station in stations:\n",
    "            stationstr=station.get(\"href\")\n",
    "            print(stationstr)\n",
    "            if \"?\" in stationstr:\n",
    "                junk,stationid=stationstr.split(\"?\")\n",
    "                print(stationid)\n",
    "                station_list.append(base_radio_url+stationid)\n",
    "            else:\n",
    "                station_list.append(stationstr)\n",
    "        break\n"
   ]
  },
  {
   "cell_type": "code",
   "execution_count": 56,
   "metadata": {},
   "outputs": [
    {
     "name": "stdout",
     "output_type": "stream",
     "text": [
      "https://www.kan.org.il/radio/player.aspx?stationid=3\n",
      "https://www.kan.org.il/radio/player.aspx?stationid=3\n"
     ]
    }
   ],
   "source": [
    "print(station_list[0])\n",
    "request_url=station_list[0]\n",
    "print(request_url)\n",
    "r1=requests.get(request_url)\n",
    "c1=r1.content\n",
    "soup=BeautifulSoup(c1,\"html.parser\")\n",
    "player_content=soup.find_all(\"div\",{\"class\":\"player_content\"})\n",
    "image_content=soup.find_all(\"div\",{\"class\":\"player_info_group\"})\n",
    "\n"
   ]
  },
  {
   "cell_type": "code",
   "execution_count": 57,
   "metadata": {},
   "outputs": [
    {
     "name": "stdout",
     "output_type": "stream",
     "text": [
      "https://player.kan.org.il/player/?stream=IPBCbetLAM&account=ipbc&delivery_type=hls&width=100%25&height=0px&font_size=10&style_schema=ipbc&qualityChange&showEmbedded&fullScreen&audio_tag&autoplay=true\n"
     ]
    }
   ],
   "source": [
    "player_iframe=player_content[0].find(\"iframe\")\n",
    "print(player_iframe.get(\"src\"))\n",
    "player_url=player_iframe.get(\"src\")"
   ]
  },
  {
   "cell_type": "code",
   "execution_count": 63,
   "metadata": {},
   "outputs": [
    {
     "name": "stdout",
     "output_type": "stream",
     "text": [
      "\tvar metadataURL             = 'https://player.kan.org.il/live/ipbc/IPBCbetLAM/hls/metadata.xml?smil_profile=default&https_streaming=true&';\n",
      "https://player.kan.org.il/live/ipbc/IPBCbetLAM/hls/metadata.xml?smil_profile=default&https_streaming=true&\n"
     ]
    }
   ],
   "source": [
    "player_r=requests.get(player_url)\n",
    "player_soup=BeautifulSoup(player_r.content,\"html.parser\")\n",
    "'''print(player_soup)'''\n",
    "scripts=player_soup.find_all(\"script\")\n",
    "for script in scripts:\n",
    "    script_str=str(script)\n",
    "    if \"metadataURL\" in script_str:\n",
    "        text=script_str.splitlines()\n",
    "        for line in text:\n",
    "            if \"metadataURL\" in line:\n",
    "                print (line)\n",
    "                metadata_url=re.search('\\'(.*)\\'',line)\n",
    "                print (metadata_url.group(1))\n",
    "            \n",
    "    "
   ]
  },
  {
   "cell_type": "code",
   "execution_count": 105,
   "metadata": {},
   "outputs": [],
   "source": [
    "metadata_r=requests.get(metadata_url.group(1))\n",
    "metadata_soup=BeautifulSoup(metadata_r.content)"
   ]
  },
  {
   "cell_type": "code",
   "execution_count": 104,
   "metadata": {},
   "outputs": [
    {
     "name": "stdout",
     "output_type": "stream",
     "text": [
      "https://ipbc-s.vidnt.com/ipbc_IPBCbetLAMRepeat/_definst_/smil:IPBCbetLAM.smil/playlist.m3u8?ttl=1538989254&cdn_token=70a123bfc95691f3d330d2b19752c4c5\n"
     ]
    }
   ],
   "source": [
    "smil_url=metadata_soup.findAll(\"playbacklinks\")[0]\n",
    "print(smil_url.contents[1].text)\n"
   ]
  },
  {
   "cell_type": "code",
   "execution_count": 153,
   "metadata": {},
   "outputs": [
    {
     "name": "stdout",
     "output_type": "stream",
     "text": [
      "https://kanweb.blob.core.windows.net/download/pictures/Logo_Color3_img_.png\n"
     ]
    }
   ],
   "source": [
    "images_content=soup.find_all(\"div\",{\"class\":\"player_info_group\"})\n",
    "\n",
    "for image_content in images_content:\n",
    "    '''    href_list=image_content.find_all('a',href=True)\n",
    "    print(\"RAN image\")\n",
    "    for img_href in href_list:\n",
    "        for attrib in img_href.attrs:\n",
    "            print(attrib)'''\n",
    "    images=image_content.findAll('img')\n",
    "    for image in images:\n",
    "        print(image['src'])\n",
    "        "
   ]
  },
  {
   "cell_type": "code",
   "execution_count": null,
   "metadata": {},
   "outputs": [],
   "source": []
  },
  {
   "cell_type": "code",
   "execution_count": null,
   "metadata": {},
   "outputs": [],
   "source": []
  },
  {
   "cell_type": "code",
   "execution_count": null,
   "metadata": {},
   "outputs": [],
   "source": []
  },
  {
   "cell_type": "code",
   "execution_count": null,
   "metadata": {},
   "outputs": [],
   "source": []
  },
  {
   "cell_type": "code",
   "execution_count": null,
   "metadata": {},
   "outputs": [],
   "source": []
  },
  {
   "cell_type": "code",
   "execution_count": null,
   "metadata": {},
   "outputs": [],
   "source": []
  },
  {
   "cell_type": "code",
   "execution_count": 77,
   "metadata": {},
   "outputs": [],
   "source": [
    "kan_base_url=\"http://www.kan.org.il/\"\n",
    "radio_url=\"radio/\""
   ]
  },
  {
   "cell_type": "code",
   "execution_count": 91,
   "metadata": {},
   "outputs": [
    {
     "name": "stdout",
     "output_type": "stream",
     "text": [
      "https://kanweb.blob.core.windows.net/download/pictures/RadioProgram1209_img993742504.jpg\n",
      "/images/defaultsGimel.jpg\n",
      "https://kanweb.blob.core.windows.net/download/pictures/RadioProgram1353_img164764114.jpg\n",
      "https://kanweb.blob.core.windows.net/download/pictures/RadioProgram14_img_1.jpg\n",
      "https://kanweb.blob.core.windows.net/download/pictures/RadioProgram1256_img465891040.jpg\n",
      "https://kanweb.blob.core.windows.net/download/pictures/RadioProgram1045_img.jpg\n",
      "https://kanweb.blob.core.windows.net/download/pictures/RadioProgram1160_img.jpg\n",
      "/images/350.jpg\n"
     ]
    }
   ],
   "source": [
    "radio_img_list=[]\n",
    "radio_groups=soup.find_all(\"div\",{\"class\":\"radio_online_group\"})\n",
    "for radio_group in radio_groups:\n",
    "    radio_imgs=radio_group.find_all(\"div\",{\"class\":\"radio_online_block w-clearfix\"})\n",
    "    for radio_img in radio_imgs:\n",
    "            print((radio_img.get(\"data-image\")))\n",
    "    "
   ]
  },
  {
   "cell_type": "code",
   "execution_count": 113,
   "metadata": {},
   "outputs": [
    {
     "name": "stdout",
     "output_type": "stream",
     "text": [
      "play(3)\n",
      "play(9)\n",
      "play(5)\n",
      "play(4)\n",
      "play(6)\n",
      "play(7)\n",
      "play(10)\n",
      "play(13)\n"
     ]
    }
   ],
   "source": [
    "radio_img_list=[]\n",
    "radio_groups=soup.find_all(\"div\",{\"class\":\"radio_online_group\"})\n",
    "for radio_group in radio_groups:\n",
    "    radio_imgs=radio_group.find_all(\"div\",{\"class\":\"radio_online_block w-clearfix\"})\n",
    "    for radio_img in radio_imgs:\n",
    "            href_list=radio_img.find_all('a',href=True)\n",
    "            print(href_list[0].get(\"onclick\"))"
   ]
  },
  {
   "cell_type": "code",
   "execution_count": null,
   "metadata": {},
   "outputs": [],
   "source": []
  },
  {
   "cell_type": "code",
   "execution_count": null,
   "metadata": {},
   "outputs": [],
   "source": []
  }
 ],
 "metadata": {
  "kernelspec": {
   "display_name": "Python 3",
   "language": "python",
   "name": "python3"
  },
  "language_info": {
   "codemirror_mode": {
    "name": "ipython",
    "version": 3
   },
   "file_extension": ".py",
   "mimetype": "text/x-python",
   "name": "python",
   "nbconvert_exporter": "python",
   "pygments_lexer": "ipython3",
   "version": "3.6.6"
  }
 },
 "nbformat": 4,
 "nbformat_minor": 2
}
